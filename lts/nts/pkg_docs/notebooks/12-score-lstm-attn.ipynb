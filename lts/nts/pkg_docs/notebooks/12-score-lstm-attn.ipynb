{
 "cells": [
  {
   "cell_type": "code",
   "execution_count": 1,
   "metadata": {},
   "outputs": [
    {
     "data": {
      "application/vnd.jupyter.widget-view+json": {
       "model_id": "1790be8f80184045b10ce70c66615518",
       "version_major": 2,
       "version_minor": 0
      },
      "text/plain": [
       "HBox(children=(IntProgress(value=0, max=25), HTML(value='')))"
      ]
     },
     "metadata": {},
     "output_type": "display_data"
    },
    {
     "name": "stdout",
     "output_type": "stream",
     "text": [
      "Label 0: 0.513697 | Label 1: 0.486303\n"
     ]
    },
    {
     "ename": "KeyboardInterrupt",
     "evalue": "",
     "output_type": "error",
     "traceback": [
      "\u001b[0;31m---------------------------------------------------------------------------\u001b[0m",
      "\u001b[0;31mKeyboardInterrupt\u001b[0m                         Traceback (most recent call last)",
      "\u001b[0;32m<ipython-input-1-edc13a3c3876>\u001b[0m in \u001b[0;36m<module>\u001b[0;34m()\u001b[0m\n\u001b[1;32m    165\u001b[0m trainer.train(num_epochs=100, \n\u001b[1;32m    166\u001b[0m               \u001b[0msteps\u001b[0m\u001b[0;34m=\u001b[0m\u001b[0;36m25\u001b[0m\u001b[0;34m,\u001b[0m\u001b[0;34m\u001b[0m\u001b[0m\n\u001b[0;32m--> 167\u001b[0;31m               val_ckpt=1)\n\u001b[0m",
      "\u001b[0;32m~/Desktop/text-seg/src/trainer.py\u001b[0m in \u001b[0;36mtrain\u001b[0;34m(self, num_epochs, *args, **kwargs)\u001b[0m\n\u001b[1;32m     58\u001b[0m         \u001b[0;34m\"\"\" Train a model \"\"\"\u001b[0m\u001b[0;34m\u001b[0m\u001b[0m\n\u001b[1;32m     59\u001b[0m         \u001b[0;32mfor\u001b[0m \u001b[0mepoch\u001b[0m \u001b[0;32min\u001b[0m \u001b[0mrange\u001b[0m\u001b[0;34m(\u001b[0m\u001b[0;36m1\u001b[0m\u001b[0;34m,\u001b[0m \u001b[0mnum_epochs\u001b[0m\u001b[0;34m+\u001b[0m\u001b[0;36m1\u001b[0m\u001b[0;34m)\u001b[0m\u001b[0;34m:\u001b[0m\u001b[0;34m\u001b[0m\u001b[0m\n\u001b[0;32m---> 60\u001b[0;31m             \u001b[0mself\u001b[0m\u001b[0;34m.\u001b[0m\u001b[0mtrain_epoch\u001b[0m\u001b[0;34m(\u001b[0m\u001b[0mepoch\u001b[0m\u001b[0;34m,\u001b[0m \u001b[0;34m*\u001b[0m\u001b[0margs\u001b[0m\u001b[0;34m,\u001b[0m \u001b[0;34m**\u001b[0m\u001b[0mkwargs\u001b[0m\u001b[0;34m)\u001b[0m\u001b[0;34m\u001b[0m\u001b[0m\n\u001b[0m\u001b[1;32m     61\u001b[0m \u001b[0;34m\u001b[0m\u001b[0m\n\u001b[1;32m     62\u001b[0m     \u001b[0;32mdef\u001b[0m \u001b[0mtrain_epoch\u001b[0m\u001b[0;34m(\u001b[0m\u001b[0mself\u001b[0m\u001b[0;34m,\u001b[0m \u001b[0mepoch\u001b[0m\u001b[0;34m,\u001b[0m \u001b[0msteps\u001b[0m\u001b[0;34m=\u001b[0m\u001b[0;36m25\u001b[0m\u001b[0;34m,\u001b[0m \u001b[0mval_ckpt\u001b[0m\u001b[0;34m=\u001b[0m\u001b[0;36m5\u001b[0m\u001b[0;34m,\u001b[0m \u001b[0mvisualize\u001b[0m\u001b[0;34m=\u001b[0m\u001b[0;32mTrue\u001b[0m\u001b[0;34m)\u001b[0m\u001b[0;34m:\u001b[0m\u001b[0;34m\u001b[0m\u001b[0m\n",
      "\u001b[0;32m~/Desktop/text-seg/src/trainer.py\u001b[0m in \u001b[0;36mtrain_epoch\u001b[0;34m(self, epoch, steps, val_ckpt, visualize)\u001b[0m\n\u001b[1;32m     75\u001b[0m             \u001b[0;31m# Compute a train batch, backpropagate\u001b[0m\u001b[0;34m\u001b[0m\u001b[0;34m\u001b[0m\u001b[0m\n\u001b[1;32m     76\u001b[0m             \u001b[0mbatch_loss\u001b[0m\u001b[0;34m,\u001b[0m \u001b[0mnum_sents\u001b[0m\u001b[0;34m,\u001b[0m \u001b[0msegs_correct\u001b[0m\u001b[0;34m,\u001b[0m \u001b[0mtexts_correct\u001b[0m\u001b[0;34m,\u001b[0m \u001b[0mtotal_segs\u001b[0m\u001b[0;34m,\u001b[0m \u001b[0mtotal_texts\u001b[0m \u001b[0;34m=\u001b[0m \u001b[0mself\u001b[0m\u001b[0;34m.\u001b[0m\u001b[0mtrain_batch\u001b[0m\u001b[0;34m(\u001b[0m\u001b[0;34m)\u001b[0m\u001b[0;34m\u001b[0m\u001b[0m\n\u001b[0;32m---> 77\u001b[0;31m             \u001b[0mbatch_loss\u001b[0m\u001b[0;34m.\u001b[0m\u001b[0mbackward\u001b[0m\u001b[0;34m(\u001b[0m\u001b[0;34m)\u001b[0m\u001b[0;34m\u001b[0m\u001b[0m\n\u001b[0m\u001b[1;32m     78\u001b[0m \u001b[0;34m\u001b[0m\u001b[0m\n\u001b[1;32m     79\u001b[0m             \u001b[0;31m# Log progress (Loss is reported as average loss per sentence)\u001b[0m\u001b[0;34m\u001b[0m\u001b[0;34m\u001b[0m\u001b[0m\n",
      "\u001b[0;32m~/Desktop/text-seg/env/lib/python3.6/site-packages/torch/tensor.py\u001b[0m in \u001b[0;36mbackward\u001b[0;34m(self, gradient, retain_graph, create_graph)\u001b[0m\n\u001b[1;32m     91\u001b[0m                 \u001b[0mproducts\u001b[0m\u001b[0;34m.\u001b[0m \u001b[0mDefaults\u001b[0m \u001b[0mto\u001b[0m\u001b[0;31m \u001b[0m\u001b[0;31m`\u001b[0m\u001b[0;31m`\u001b[0m\u001b[0;32mFalse\u001b[0m\u001b[0;31m`\u001b[0m\u001b[0;31m`\u001b[0m\u001b[0;34m.\u001b[0m\u001b[0;34m\u001b[0m\u001b[0m\n\u001b[1;32m     92\u001b[0m         \"\"\"\n\u001b[0;32m---> 93\u001b[0;31m         \u001b[0mtorch\u001b[0m\u001b[0;34m.\u001b[0m\u001b[0mautograd\u001b[0m\u001b[0;34m.\u001b[0m\u001b[0mbackward\u001b[0m\u001b[0;34m(\u001b[0m\u001b[0mself\u001b[0m\u001b[0;34m,\u001b[0m \u001b[0mgradient\u001b[0m\u001b[0;34m,\u001b[0m \u001b[0mretain_graph\u001b[0m\u001b[0;34m,\u001b[0m \u001b[0mcreate_graph\u001b[0m\u001b[0;34m)\u001b[0m\u001b[0;34m\u001b[0m\u001b[0m\n\u001b[0m\u001b[1;32m     94\u001b[0m \u001b[0;34m\u001b[0m\u001b[0m\n\u001b[1;32m     95\u001b[0m     \u001b[0;32mdef\u001b[0m \u001b[0mregister_hook\u001b[0m\u001b[0;34m(\u001b[0m\u001b[0mself\u001b[0m\u001b[0;34m,\u001b[0m \u001b[0mhook\u001b[0m\u001b[0;34m)\u001b[0m\u001b[0;34m:\u001b[0m\u001b[0;34m\u001b[0m\u001b[0m\n",
      "\u001b[0;32m~/Desktop/text-seg/env/lib/python3.6/site-packages/torch/autograd/__init__.py\u001b[0m in \u001b[0;36mbackward\u001b[0;34m(tensors, grad_tensors, retain_graph, create_graph, grad_variables)\u001b[0m\n\u001b[1;32m     87\u001b[0m     Variable._execution_engine.run_backward(\n\u001b[1;32m     88\u001b[0m         \u001b[0mtensors\u001b[0m\u001b[0;34m,\u001b[0m \u001b[0mgrad_tensors\u001b[0m\u001b[0;34m,\u001b[0m \u001b[0mretain_graph\u001b[0m\u001b[0;34m,\u001b[0m \u001b[0mcreate_graph\u001b[0m\u001b[0;34m,\u001b[0m\u001b[0;34m\u001b[0m\u001b[0m\n\u001b[0;32m---> 89\u001b[0;31m         allow_unreachable=True)  # allow_unreachable flag\n\u001b[0m\u001b[1;32m     90\u001b[0m \u001b[0;34m\u001b[0m\u001b[0m\n\u001b[1;32m     91\u001b[0m \u001b[0;34m\u001b[0m\u001b[0m\n",
      "\u001b[0;31mKeyboardInterrupt\u001b[0m: "
     ]
    }
   ],
   "source": [
    "import os, sys\n",
    "module_path = os.path.abspath(os.path.join('..'))\n",
    "sys.path.append(module_path)\n",
    "\n",
    "import torch\n",
    "import torch.nn as nn\n",
    "import torch.nn.functional as F\n",
    "\n",
    "from src.trainer import *\n",
    "\n",
    "\n",
    "class LSTMLower(nn.Module):\n",
    "    \"\"\" LSTM over a Batch of variable length sentences, pool over\n",
    "    each sentence's hidden states to get its representation. \n",
    "    \"\"\"    \n",
    "    def __init__(self, hidden_dim, num_layers, bidir, drop_prob, attn_dim):\n",
    "        super().__init__()\n",
    "                \n",
    "        weights = VECTORS.weights()\n",
    "        \n",
    "        self.embeddings = nn.Embedding(weights.shape[0], weights.shape[1])\n",
    "        self.embeddings.weight.data.copy_(weights)\n",
    "        \n",
    "        self.drop = drop_prob\n",
    "        \n",
    "        self.lstm = nn.LSTM(weights.shape[1], hidden_dim, num_layers=num_layers,\n",
    "                            bidirectional=bidir, batch_first=True, dropout=self.drop)\n",
    "        \n",
    "        self.attn = SelfAttention(attn_dim)\n",
    "        \n",
    "    def forward(self, batch):\n",
    "        \n",
    "        # Convert sentences to embed lookup ID tensors\n",
    "        sent_tensors = [sent_to_tensor(s) for s in batch]\n",
    "        \n",
    "        # Embed tokens in each sentence\n",
    "        embedded = [F.dropout(self.embeddings(s), self.drop) for s in sent_tensors]\n",
    "\n",
    "        # Pad, pack  embeddings of variable length sequences of tokens\n",
    "        packed, reorder = pad_and_pack(embedded)\n",
    "                \n",
    "        # LSTM over the packed embeddings\n",
    "        lstm_out, _ = self.lstm(packed)\n",
    "        \n",
    "        # Compute attention over hidden states\n",
    "        weighted = self.attn(lstm_out)\n",
    "        \n",
    "        # Restore original ordering\n",
    "        lower_output = weighted[reorder]\n",
    "        \n",
    "        return lower_output\n",
    "\n",
    "\n",
    "class Score(nn.Module):\n",
    "    \"\"\" Take outputs from LSTMHigher, produce probabilities for each\n",
    "    sentence that it ends a segment. \n",
    "    \"\"\"\n",
    "    def __init__(self, input_dim, hidden_dim, out_dim, drop_prob):\n",
    "        super().__init__()\n",
    "        \n",
    "        self.score = nn.Sequential(\n",
    "            nn.Linear(input_dim, hidden_dim),\n",
    "            nn.ReLU(),\n",
    "            nn.Dropout(drop_prob),\n",
    "            nn.Linear(hidden_dim, hidden_dim),\n",
    "            nn.ReLU(), \n",
    "            nn.Dropout(drop_prob),\n",
    "            nn.Linear(hidden_dim, out_dim),\n",
    "        )\n",
    "        \n",
    "    def forward(self, lower_output):\n",
    "        return self.score(lower_output)\n",
    "\n",
    "\n",
    "class SelfAttention(nn.Module):\n",
    "    \"\"\" Module for computing dot self-attention \n",
    "    \"\"\"\n",
    "    def __init__(self, attn_dim):\n",
    "        super().__init__()\n",
    "        \n",
    "        # Initialize parameter and weights\n",
    "        self.attn_weights = nn.Parameter(torch.Tensor(attn_dim))\n",
    "        nn.init.uniform_(self.attn_weights.data, -0.005, 0.005)\n",
    "        \n",
    "        # [Viswani et al., 2017] to make dot attention approx. equal to\n",
    "        # additive attention for larger hidden dim sizes\n",
    "        self.scale = 1 / np.sqrt(attn_dim)\n",
    "\n",
    "    def forward(self, lstm_out):\n",
    "        \"\"\" Returns a singular unordered, padded 3D tensor. \"\"\"\n",
    "        # Unpack packed sequence\n",
    "        unpacked, sizes = pad_packed_sequence(lstm_out, batch_first=True)\n",
    "        \n",
    "        # Dot the padded unpacked sequence with attention weights, activate\n",
    "        activated = F.tanh(torch.matmul(unpacked, self.attn_weights)) * self.scale\n",
    "        \n",
    "        # Softmax over the activated tensor\n",
    "        raw_scores = F.softmax(activated, dim=1)\n",
    "        \n",
    "        # Mask the portions of the sentence that should be padding\n",
    "        mask = self._mask(sizes)\n",
    "        \n",
    "        # Mask padding\n",
    "        masked_scores = raw_scores * mask\n",
    "\n",
    "        # Renormalize softmax weights to ignore padding\n",
    "        weights = self._normalize(masked_scores)\n",
    "\n",
    "        # Weight hidden states\n",
    "        scores = torch.mul(unpacked, weights.unsqueeze(-1).expand_as(unpacked))\n",
    "        \n",
    "        # Sum over tokens\n",
    "        context = torch.sum(scores, dim=1)\n",
    "        \n",
    "        return context\n",
    "\n",
    "    def _mask(self, sizes):\n",
    "        \"\"\" Construct mask for padded itemsteps, based on lengths \"\"\"\n",
    "        pad_size = torch.max(sizes).item()\n",
    "        mask = torch.stack([F.pad(torch.ones(int(size)), (0, pad_size-int(size)))\n",
    "                     for size in sizes], dim=0)\n",
    "        return mask\n",
    "    \n",
    "    def _normalize(self, masked_scores):\n",
    "        \"\"\" Renormalize masked scores to ignore padding \"\"\"\n",
    "        sums = torch.sum(masked_scores, dim=1, keepdim=True)  # sums per row\n",
    "        weights = torch.div(masked_scores, sums)  # divide by row sum\n",
    "        return weights\n",
    "\n",
    "\n",
    "class LSTMScore(nn.Module):\n",
    "    \"\"\" Super class for taking an input batch of sentences from a Batch\n",
    "    and computing the probability whether they end a segment or not \n",
    "    \"\"\"\n",
    "    def __init__(self, lstm_dim, score_dim, bidir, num_layers=2, drop_prob=0.20):\n",
    "        super().__init__()\n",
    "        \n",
    "        # Compute input dimension size for LSTMHigher, Score\n",
    "        num_dirs = 2 if bidir else 1\n",
    "        input_dim = lstm_dim*num_dirs\n",
    "        \n",
    "        # Chain modules together to get overall model\n",
    "        self.model = nn.Sequential(\n",
    "            LSTMLower(lstm_dim, num_layers, bidir, drop_prob, input_dim),\n",
    "            Score(input_dim, score_dim, out_dim=2, drop_prob=drop_prob)\n",
    "        )\n",
    "        \n",
    "    def forward(self, batch):\n",
    "        return self.model(batch)\n",
    "    \n",
    "    \n",
    "# Original paper does 10 epochs across full dataset\n",
    "model = LSTMScore(lstm_dim=256, \n",
    "                  score_dim=256, \n",
    "                  bidir=True, \n",
    "                  num_layers=2, \n",
    "                  drop_prob=0.20)\n",
    "\n",
    "trainer = Trainer(model=model,\n",
    "                  train_dir='../data/wiki_727/train', \n",
    "                  val_dir='../data/wiki_50/test',\n",
    "                  batch_size=8,\n",
    "                  lr=1e-3)\n",
    "\n",
    "trainer.train(num_epochs=100, \n",
    "              steps=25, \n",
    "              val_ckpt=1)"
   ]
  },
  {
   "cell_type": "code",
   "execution_count": null,
   "metadata": {},
   "outputs": [],
   "source": [
    "import os, sys"
   ]
  },
  {
   "cell_type": "code",
   "execution_count": null,
   "metadata": {},
   "outputs": [],
   "source": [
    "sys.argv[0]"
   ]
  },
  {
   "cell_type": "code",
   "execution_count": null,
   "metadata": {},
   "outputs": [],
   "source": []
  },
  {
   "cell_type": "code",
   "execution_count": null,
   "metadata": {},
   "outputs": [],
   "source": [
    "module_path = os.path.abspath(os.path.join('..'))"
   ]
  },
  {
   "cell_type": "code",
   "execution_count": null,
   "metadata": {},
   "outputs": [],
   "source": [
    "module_path = os.path.abspath(os.path.join('..'))\n",
    "sys.path.append(module_path)"
   ]
  },
  {
   "cell_type": "code",
   "execution_count": null,
   "metadata": {},
   "outputs": [],
   "source": [
    "from src.trainer import *"
   ]
  },
  {
   "cell_type": "code",
   "execution_count": null,
   "metadata": {},
   "outputs": [],
   "source": [
    "from src import *"
   ]
  },
  {
   "cell_type": "code",
   "execution_count": null,
   "metadata": {},
   "outputs": [],
   "source": [
    "module_path = os.path.abspath(os.path.join('..'))\n",
    "sys.path.append(module_path)"
   ]
  },
  {
   "cell_type": "code",
   "execution_count": null,
   "metadata": {},
   "outputs": [],
   "source": [
    "from src.trainer import *"
   ]
  },
  {
   "cell_type": "code",
   "execution_count": null,
   "metadata": {},
   "outputs": [],
   "source": [
    "import sys"
   ]
  },
  {
   "cell_type": "code",
   "execution_count": null,
   "metadata": {},
   "outputs": [],
   "source": []
  }
 ],
 "metadata": {
  "kernelspec": {
   "display_name": "Python 3",
   "language": "python",
   "name": "python3"
  },
  "language_info": {
   "codemirror_mode": {
    "name": "ipython",
    "version": 3
   },
   "file_extension": ".py",
   "mimetype": "text/x-python",
   "name": "python",
   "nbconvert_exporter": "python",
   "pygments_lexer": "ipython3",
   "version": "3.6.5"
  }
 },
 "nbformat": 4,
 "nbformat_minor": 2
}
